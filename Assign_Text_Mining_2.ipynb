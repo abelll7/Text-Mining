{
 "cells": [
  {
   "cell_type": "code",
   "execution_count": 48,
   "id": "7d4f576d",
   "metadata": {},
   "outputs": [],
   "source": [
    "#import libraries\n",
    "import pandas as pd\n",
    "import matplotlib.pyplot as plt\n",
    "import seaborn as sns\n",
    "import spacy"
   ]
  },
  {
   "cell_type": "code",
   "execution_count": 2,
   "id": "6e83e739",
   "metadata": {},
   "outputs": [
    {
     "name": "stderr",
     "output_type": "stream",
     "text": [
      "<ipython-input-2-1cd40898c521>:1: ParserWarning: Falling back to the 'python' engine because the 'c' engine does not support regex separators (separators > 1 char and different from '\\s+' are interpreted as regex); you can avoid this warning by specifying engine='python'.\n",
      "  df=pd.read_csv(r\"C:\\Users\\Abel\\Downloads\\Laptop_review.txt\",delimiter=' , ')\n"
     ]
    }
   ],
   "source": [
    "#load dataset\n",
    "df=pd.read_csv(r\"C:\\Users\\Abel\\Downloads\\Laptop_review.txt\",delimiter=' , ')"
   ]
  },
  {
   "cell_type": "code",
   "execution_count": 3,
   "id": "2ebb5454",
   "metadata": {},
   "outputs": [
    {
     "data": {
      "text/html": [
       "<div>\n",
       "<style scoped>\n",
       "    .dataframe tbody tr th:only-of-type {\n",
       "        vertical-align: middle;\n",
       "    }\n",
       "\n",
       "    .dataframe tbody tr th {\n",
       "        vertical-align: top;\n",
       "    }\n",
       "\n",
       "    .dataframe thead th {\n",
       "        text-align: right;\n",
       "    }\n",
       "</style>\n",
       "<table border=\"1\" class=\"dataframe\">\n",
       "  <thead>\n",
       "    <tr style=\"text-align: right;\">\n",
       "      <th></th>\n",
       "      <th>Text</th>\n",
       "    </tr>\n",
       "  </thead>\n",
       "  <tbody>\n",
       "    <tr>\n",
       "      <th>0</th>\n",
       "      <td>Extremely overpriced. At this price range we g...</td>\n",
       "    </tr>\n",
       "    <tr>\n",
       "      <th>1</th>\n",
       "      <td>This laptop I bought after intense search I fo...</td>\n",
       "    </tr>\n",
       "    <tr>\n",
       "      <th>2</th>\n",
       "      <td>I have purchased this model (Legion 5i intel 1...</td>\n",
       "    </tr>\n",
       "    <tr>\n",
       "      <th>3</th>\n",
       "      <td>Loved the laptop. Got it for 79K and I think i...</td>\n",
       "    </tr>\n",
       "    <tr>\n",
       "      <th>4</th>\n",
       "      <td>Unlike ROGs and MSIs of the world it's build s...</td>\n",
       "    </tr>\n",
       "    <tr>\n",
       "      <th>5</th>\n",
       "      <td>Heating and thermal management is on point. co...</td>\n",
       "    </tr>\n",
       "    <tr>\n",
       "      <th>6</th>\n",
       "      <td>It is bit thick, but for a good cause, which a...</td>\n",
       "    </tr>\n",
       "    <tr>\n",
       "      <th>7</th>\n",
       "      <td>It's a decent laptop for the price. The displa...</td>\n",
       "    </tr>\n",
       "    <tr>\n",
       "      <th>8</th>\n",
       "      <td>U can go for it.. premium level..other than ba...</td>\n",
       "    </tr>\n",
       "    <tr>\n",
       "      <th>9</th>\n",
       "      <td>Dear friends i am writing the review after one...</td>\n",
       "    </tr>\n",
       "    <tr>\n",
       "      <th>10</th>\n",
       "      <td>The first thing when someone looks will notice...</td>\n",
       "    </tr>\n",
       "    <tr>\n",
       "      <th>11</th>\n",
       "      <td>It has a sophisticated look and can fit in any...</td>\n",
       "    </tr>\n",
       "    <tr>\n",
       "      <th>12</th>\n",
       "      <td>Nice laptop.. looks are not like other gaming ...</td>\n",
       "    </tr>\n",
       "    <tr>\n",
       "      <th>13</th>\n",
       "      <td>Price is a bit more but worth it!!</td>\n",
       "    </tr>\n",
       "    <tr>\n",
       "      <th>14</th>\n",
       "      <td>I bought at 71k it's a properly cool machine.....</td>\n",
       "    </tr>\n",
       "    <tr>\n",
       "      <th>15</th>\n",
       "      <td>I was confused between Asus Tuf, predator and ...</td>\n",
       "    </tr>\n",
       "    <tr>\n",
       "      <th>16</th>\n",
       "      <td>I wanted a laptop for gaming and music product...</td>\n",
       "    </tr>\n",
       "  </tbody>\n",
       "</table>\n",
       "</div>"
      ],
      "text/plain": [
       "                                                 Text\n",
       "0   Extremely overpriced. At this price range we g...\n",
       "1   This laptop I bought after intense search I fo...\n",
       "2   I have purchased this model (Legion 5i intel 1...\n",
       "3   Loved the laptop. Got it for 79K and I think i...\n",
       "4   Unlike ROGs and MSIs of the world it's build s...\n",
       "5   Heating and thermal management is on point. co...\n",
       "6   It is bit thick, but for a good cause, which a...\n",
       "7   It's a decent laptop for the price. The displa...\n",
       "8   U can go for it.. premium level..other than ba...\n",
       "9   Dear friends i am writing the review after one...\n",
       "10  The first thing when someone looks will notice...\n",
       "11  It has a sophisticated look and can fit in any...\n",
       "12  Nice laptop.. looks are not like other gaming ...\n",
       "13                 Price is a bit more but worth it!!\n",
       "14  I bought at 71k it's a properly cool machine.....\n",
       "15  I was confused between Asus Tuf, predator and ...\n",
       "16  I wanted a laptop for gaming and music product..."
      ]
     },
     "execution_count": 3,
     "metadata": {},
     "output_type": "execute_result"
    }
   ],
   "source": [
    "df"
   ]
  },
  {
   "cell_type": "code",
   "execution_count": 4,
   "id": "8cb60d7e",
   "metadata": {},
   "outputs": [
    {
     "data": {
      "text/plain": [
       "['Extremely overpriced. At this price range we get hp omen 15 ryzen 4600h and gtx 1660ti which is far better than this. Disappointment from lenovo',\n",
       " 'This laptop I bought after intense search I found out this was the best Gaming laptop out there and thankfully it was validated when I got it !!',\n",
       " 'I have purchased this model (Legion 5i intel 10th gen / gtx 1650 ti/ 250 nits 120 hz refresh rate/256 gb ssd 1tb hdd)',\n",
       " \"Loved the laptop. Got it for 79K and I think it's worth every rupee. If you are looking for a laptop for your academic or professional requirement with a bit of casual gaming, I'd highly recommend this laptop.\",\n",
       " \"Unlike ROGs and MSIs of the world it's build so good, at this price point it's the best. Built out of plastic yet feels like tank.\"]"
      ]
     },
     "execution_count": 4,
     "metadata": {},
     "output_type": "execute_result"
    }
   ],
   "source": [
    "#strip the trailings and leadings\n",
    "laptop= [Text.strip() for Text in df.Text]\n",
    "laptop[0:5]"
   ]
  },
  {
   "cell_type": "code",
   "execution_count": 9,
   "id": "70b04773",
   "metadata": {},
   "outputs": [
    {
     "data": {
      "text/plain": [
       "\"Extremely overpriced. At this price range we get hp omen 15 ryzen 4600h and gtx 1660ti which is far better than this. Disappointment from lenovoThis laptop I bought after intense search I found out this was the best Gaming laptop out there and thankfully it was validated when I got it !!I have purchased this model (Legion 5i intel 10th gen / gtx 1650 ti/ 250 nits 120 hz refresh rate/256 gb ssd 1tb hdd)Loved the laptop. Got it for 79K and I think it's worth every rupee. If you are looking for a laptop for your academic or professional requirement with a bit of casual gaming, I'd highly recommend this laptop.Unlike ROGs and MSIs of the world it's build so good, at this price point it's the best. Built out of plastic yet feels like tank.Heating and thermal management is on point. cools like nothing else.It is bit thick, but for a good cause, which again is surprisingly isn't that heavy!It's a decent laptop for the price. The display is good and vibrant, it never dissappoints. The performance is fabulous. But battery is not upto mark but that's okay for a gaming laptop. The design is splendid. Build quality is rock solid.U can go for it.. premium level..other than battery.. everything is just perfect.Dear friends i am writing the review after one month. I got it for Rs. 71500 only. At first i had a fear that i could get a refurbished one. I got the lowest price of rs 85k at market. But believe me the product is fresh. I am quite happy with it.The first thing when someone looks will notice the premium built quality, not metal but sturdy plastic built and very premium looking feel.It has a sophisticated look and can fit in any situation unlike the over designed gaming laptops.Nice laptop.. looks are not like other gaming laptops, it looks professional. I5 10th gen is good for most games with 1650ti gtx🔥Price is a bit more but worth it!!I bought at 71k it's a properly cool machine...i want to thank dav Lee actually for his reviewI was confused between Asus Tuf, predator and Lenovo legion. But finally decided to go for Lenovo Legions. I must say it has performed really good and is lot better than expected.I wanted a laptop for gaming and music production, this laptop checks all the boxes for that. The colour gamut is low so if you're a video content creator, I suggest you go for something else with a better display, rest everything is pretty good\""
      ]
     },
     "execution_count": 9,
     "metadata": {},
     "output_type": "execute_result"
    }
   ],
   "source": [
    "#join the sentences\n",
    "sentences1 = ''.join(laptop)\n",
    "sentences1"
   ]
  },
  {
   "cell_type": "code",
   "execution_count": 14,
   "id": "b5dafdeb",
   "metadata": {},
   "outputs": [
    {
     "data": {
      "text/plain": [
       "\"Extremely overpriced. At this price range we get hp omen   ryzen  h and gtx  ti which is far better than this. Disappointment from lenovoThis laptop I bought after intense search I found out this was the best Gaming laptop out there and thankfully it was validated when I got it !!I have purchased this model (Legion  i intel  th gen / gtx   ti/   nits   hz refresh rate/  gb ssd  tb hdd)Loved the laptop. Got it for  K and I think it's worth every rupee. If you are looking for a laptop for your academic or professional requirement with a bit of casual gaming, I'd highly recommend this laptop.Unlike ROGs and MSIs of the world it's build so good, at this price point it's the best. Built out of plastic yet feels like tank.Heating and thermal management is on point. cools like nothing else.It is bit thick, but for a good cause, which again is surprisingly isn't that heavy!It's a decent laptop for the price. The display is good and vibrant, it never dissappoints. The performance is fabulous. But battery is not upto mark but that's okay for a gaming laptop. The design is splendid. Build quality is rock solid.U can go for it.. premium level..other than battery.. everything is just perfect.Dear friends i am writing the review after one month. I got it for Rs.   only. At first i had a fear that i could get a refurbished one. I got the lowest price of rs  k at market. But believe me the product is fresh. I am quite happy with it.The first thing when someone looks will notice the premium built quality, not metal but sturdy plastic built and very premium looking feel.It has a sophisticated look and can fit in any situation unlike the over designed gaming laptops.Nice laptop.. looks are not like other gaming laptops, it looks professional. I   th gen is good for most games with  ti gtx🔥Price is a bit more but worth it!!I bought at  k it's a properly cool machine...i want to thank dav Lee actually for his reviewI was confused between Asus Tuf, predator and Lenovo legion. But finally decided to go for Lenovo Legions. I must say it has performed really good and is lot better than expected.I wanted a laptop for gaming and music production, this laptop checks all the boxes for that. The colour gamut is low so if you're a video content creator, I suggest you go for something else with a better display, rest everything is pretty good\""
      ]
     },
     "execution_count": 14,
     "metadata": {},
     "output_type": "execute_result"
    }
   ],
   "source": [
    "#removing numbers\n",
    "import re\n",
    "no_punc_elon_text2= re.sub(\"[0-9\" \"]+\",\" \",sentences1)\n",
    "no_punc_elon_text2"
   ]
  },
  {
   "cell_type": "code",
   "execution_count": 21,
   "id": "1e20c72e",
   "metadata": {},
   "outputs": [
    {
     "data": {
      "text/plain": [
       "'Extremely overpriced At this price range we get hp omen   ryzen  h and gtx  ti which is far better than this Disappointment from lenovoThis laptop I bought after intense search I found out this was the best Gaming laptop out there and thankfully it was validated when I got it I have purchased this model Legion  i intel  th gen  gtx   ti   nits   hz refresh rate  gb ssd  tb hddLoved the laptop Got it for  K and I think its worth every rupee If you are looking for a laptop for your academic or professional requirement with a bit of casual gaming Id highly recommend this laptopUnlike ROGs and MSIs of the world its build so good at this price point its the best Built out of plastic yet feels like tankHeating and thermal management is on point cools like nothing elseIt is bit thick but for a good cause which again is surprisingly isnt that heavyIts a decent laptop for the price The display is good and vibrant it never dissappoints The performance is fabulous But battery is not upto mark but thats okay for a gaming laptop The design is splendid Build quality is rock solidU can go for it premium levelother than battery everything is just perfectDear friends i am writing the review after one month I got it for Rs   only At first i had a fear that i could get a refurbished one I got the lowest price of rs  k at market But believe me the product is fresh I am quite happy with itThe first thing when someone looks will notice the premium built quality not metal but sturdy plastic built and very premium looking feelIt has a sophisticated look and can fit in any situation unlike the over designed gaming laptopsNice laptop looks are not like other gaming laptops it looks professional I   th gen is good for most games with  ti gtx🔥Price is a bit more but worth itI bought at  k its a properly cool machinei want to thank dav Lee actually for his reviewI was confused between Asus Tuf predator and Lenovo legion But finally decided to go for Lenovo Legions I must say it has performed really good and is lot better than expectedI wanted a laptop for gaming and music production this laptop checks all the boxes for that The colour gamut is low so if youre a video content creator I suggest you go for something else with a better display rest everything is pretty good'"
      ]
     },
     "execution_count": 21,
     "metadata": {},
     "output_type": "execute_result"
    }
   ],
   "source": [
    "#removing the punctuation marks\n",
    "import string\n",
    "no_punc_elon_text3 = no_punc_elon_text2.translate(str.maketrans('', '', string.punctuation))\n",
    "no_punc_elon_text3"
   ]
  },
  {
   "cell_type": "code",
   "execution_count": 22,
   "id": "51862785",
   "metadata": {},
   "outputs": [
    {
     "name": "stdout",
     "output_type": "stream",
     "text": [
      "Extremely overpriced At this price range we get hp omen   ryzen  h and gtx  ti which is far better than this Disappointment from lenovoThis laptop I bought after intense search I found out this was the best Gaming laptop out there and thankfully it was validated when I got it I have purchased this model Legion  i intel  th gen  gtx   ti   nits   hz refresh rate  gb ssd  tb hddLoved the laptop Got it for  K and I think its worth every rupee If you are looking for a laptop for your academic or professional requirement with a bit of casual gaming Id highly recommend this laptopUnlike ROGs and MSIs of the world its build so good at this price point its the best Built out of plastic yet feels like tankHeating and thermal management is on point cools like nothing elseIt is bit thick but for a good cause which again is surprisingly isnt that heavyIts a decent laptop for the price The display is good and vibrant it never dissappoints The performance is fabulous But battery is not upto mark but thats okay for a gaming laptop The design is splendid Build quality is rock solidU can go for it premium levelother than battery everything is just perfectDear friends i am writing the review after one month I got it for Rs   only At first i had a fear that i could get a refurbished one I got the lowest price of rs  k at market But believe me the product is fresh I am quite happy with itThe first thing when someone looks will notice the premium built quality not metal but sturdy plastic built and very premium looking feelIt has a sophisticated look and can fit in any situation unlike the over designed gaming laptopsNice laptop looks are not like other gaming laptops it looks professional I   th gen is good for most games with  ti gtxPrice is a bit more but worth itI bought at  k its a properly cool machinei want to thank dav Lee actually for his reviewI was confused between Asus Tuf predator and Lenovo legion But finally decided to go for Lenovo Legions I must say it has performed really good and is lot better than expectedI wanted a laptop for gaming and music production this laptop checks all the boxes for that The colour gamut is low so if youre a video content creator I suggest you go for something else with a better display rest everything is pretty good\n"
     ]
    }
   ],
   "source": [
    "#removing special characters\n",
    "no_punc_elon_text4 = \"\".join(u for u in no_punc_elon_text3 if u not in (\"�\",'\\n','🔥'))\n",
    "\n",
    "print(no_punc_elon_text4)"
   ]
  },
  {
   "cell_type": "code",
   "execution_count": 23,
   "id": "17b5ba5f",
   "metadata": {},
   "outputs": [
    {
     "name": "stdout",
     "output_type": "stream",
     "text": [
      "['Extremely', 'overpriced', 'At', 'this', 'price', 'range', 'we', 'get', 'hp', 'omen', 'ryzen', 'h', 'and', 'gtx', 'ti', 'which', 'is', 'far', 'better', 'than', 'this', 'Disappointment', 'from', 'lenovoThis', 'laptop', 'I', 'bought', 'after', 'intense', 'search', 'I', 'found', 'out', 'this', 'was', 'the', 'best', 'Gaming', 'laptop', 'out', 'there', 'and', 'thankfully', 'it', 'was', 'validated', 'when', 'I', 'got', 'it', 'I', 'have', 'purchased', 'this', 'model', 'Legion', 'i', 'intel', 'th', 'gen', 'gtx', 'ti', 'nits', 'hz', 'refresh', 'rate', 'gb', 'ssd', 'tb', 'hddLoved', 'the', 'laptop', 'Got', 'it', 'for', 'K', 'and', 'I', 'think', 'its', 'worth', 'every', 'rupee', 'If', 'you', 'are', 'looking', 'for', 'a', 'laptop', 'for', 'your', 'academic', 'or', 'professional', 'requirement', 'with', 'a', 'bit', 'of', 'casual', 'gaming', 'Id', 'highly', 'recommend', 'this', 'laptopUnlike', 'ROGs', 'and', 'MSIs', 'of', 'the', 'world', 'its', 'build', 'so', 'good', 'at', 'this', 'price', 'point', 'its', 'the', 'best', 'Built', 'out', 'of', 'plastic', 'yet', 'feels', 'like', 'tankHeating', 'and', 'thermal', 'management', 'is', 'on', 'point', 'cools', 'like', 'nothing', 'elseIt', 'is', 'bit', 'thick', 'but', 'for', 'a', 'good', 'cause', 'which', 'again', 'is', 'surprisingly', 'isnt', 'that', 'heavyIts', 'a', 'decent', 'laptop', 'for', 'the', 'price', 'The', 'display', 'is', 'good', 'and', 'vibrant', 'it', 'never', 'dissappoints', 'The', 'performance', 'is', 'fabulous', 'But', 'battery', 'is', 'not', 'upto', 'mark', 'but', 'thats', 'okay', 'for', 'a', 'gaming', 'laptop', 'The', 'design', 'is', 'splendid', 'Build', 'quality', 'is', 'rock', 'solidU', 'can', 'go', 'for', 'it', 'premium', 'levelother', 'than', 'battery', 'everything', 'is', 'just', 'perfectDear', 'friends', 'i', 'am', 'writing', 'the', 'review', 'after', 'one', 'month', 'I', 'got', 'it', 'for', 'Rs', 'only', 'At', 'first', 'i', 'had', 'a', 'fear', 'that', 'i', 'could', 'get', 'a', 'refurbished', 'one', 'I', 'got', 'the', 'lowest', 'price', 'of', 'rs', 'k', 'at', 'market', 'But', 'believe', 'me', 'the', 'product', 'is', 'fresh', 'I', 'am', 'quite', 'happy', 'with', 'itThe', 'first', 'thing', 'when', 'someone', 'looks', 'will', 'notice', 'the', 'premium', 'built', 'quality', 'not', 'metal', 'but', 'sturdy', 'plastic', 'built', 'and', 'very', 'premium', 'looking', 'feelIt', 'has', 'a', 'sophisticated', 'look', 'and', 'can', 'fit', 'in', 'any', 'situation', 'unlike', 'the', 'over', 'designed', 'gaming', 'laptopsNice', 'laptop', 'looks', 'are', 'not', 'like', 'other', 'gaming', 'laptops', 'it', 'looks', 'professional', 'I', 'th', 'gen', 'is', 'good', 'for', 'most', 'games', 'with', 'ti', 'gtxPrice', 'is', 'a', 'bit', 'more', 'but', 'worth', 'itI', 'bought', 'at', 'k', 'its', 'a', 'properly', 'cool', 'machinei', 'want', 'to', 'thank', 'dav', 'Lee', 'actually', 'for', 'his', 'reviewI', 'was', 'confused', 'between', 'Asus', 'Tuf', 'predator', 'and', 'Lenovo', 'legion', 'But', 'finally', 'decided', 'to', 'go', 'for', 'Lenovo', 'Legions', 'I', 'must', 'say', 'it', 'has', 'performed', 'really', 'good', 'and', 'is', 'lot', 'better', 'than', 'expectedI', 'wanted', 'a', 'laptop', 'for', 'gaming', 'and', 'music', 'production', 'this', 'laptop', 'checks', 'all', 'the', 'boxes', 'for', 'that', 'The', 'colour', 'gamut', 'is', 'low', 'so', 'if', 'youre', 'a', 'video', 'content', 'creator', 'I', 'suggest', 'you', 'go', 'for', 'something', 'else', 'with', 'a', 'better', 'display', 'rest', 'everything', 'is', 'pretty', 'good']\n"
     ]
    }
   ],
   "source": [
    "#Tokenization\n",
    "from nltk.tokenize import word_tokenize\n",
    "text_tokens = word_tokenize(no_punc_elon_text4)\n",
    "print(text_tokens)"
   ]
  },
  {
   "cell_type": "code",
   "execution_count": 25,
   "id": "f27222b1",
   "metadata": {},
   "outputs": [
    {
     "data": {
      "text/html": [
       "<div>\n",
       "<style scoped>\n",
       "    .dataframe tbody tr th:only-of-type {\n",
       "        vertical-align: middle;\n",
       "    }\n",
       "\n",
       "    .dataframe tbody tr th {\n",
       "        vertical-align: top;\n",
       "    }\n",
       "\n",
       "    .dataframe thead th {\n",
       "        text-align: right;\n",
       "    }\n",
       "</style>\n",
       "<table border=\"1\" class=\"dataframe\">\n",
       "  <thead>\n",
       "    <tr style=\"text-align: right;\">\n",
       "      <th></th>\n",
       "      <th>words</th>\n",
       "    </tr>\n",
       "  </thead>\n",
       "  <tbody>\n",
       "    <tr>\n",
       "      <th>0</th>\n",
       "      <td>Extremely</td>\n",
       "    </tr>\n",
       "    <tr>\n",
       "      <th>1</th>\n",
       "      <td>overpriced</td>\n",
       "    </tr>\n",
       "    <tr>\n",
       "      <th>2</th>\n",
       "      <td>At</td>\n",
       "    </tr>\n",
       "    <tr>\n",
       "      <th>3</th>\n",
       "      <td>this</td>\n",
       "    </tr>\n",
       "    <tr>\n",
       "      <th>4</th>\n",
       "      <td>price</td>\n",
       "    </tr>\n",
       "    <tr>\n",
       "      <th>...</th>\n",
       "      <td>...</td>\n",
       "    </tr>\n",
       "    <tr>\n",
       "      <th>415</th>\n",
       "      <td>rest</td>\n",
       "    </tr>\n",
       "    <tr>\n",
       "      <th>416</th>\n",
       "      <td>everything</td>\n",
       "    </tr>\n",
       "    <tr>\n",
       "      <th>417</th>\n",
       "      <td>is</td>\n",
       "    </tr>\n",
       "    <tr>\n",
       "      <th>418</th>\n",
       "      <td>pretty</td>\n",
       "    </tr>\n",
       "    <tr>\n",
       "      <th>419</th>\n",
       "      <td>good</td>\n",
       "    </tr>\n",
       "  </tbody>\n",
       "</table>\n",
       "<p>420 rows × 1 columns</p>\n",
       "</div>"
      ],
      "text/plain": [
       "          words\n",
       "0     Extremely\n",
       "1    overpriced\n",
       "2            At\n",
       "3          this\n",
       "4         price\n",
       "..          ...\n",
       "415        rest\n",
       "416  everything\n",
       "417          is\n",
       "418      pretty\n",
       "419        good\n",
       "\n",
       "[420 rows x 1 columns]"
      ]
     },
     "execution_count": 25,
     "metadata": {},
     "output_type": "execute_result"
    }
   ],
   "source": [
    "final = pd.DataFrame(text_tokens,columns=['words'])\n",
    "final"
   ]
  },
  {
   "cell_type": "code",
   "execution_count": 39,
   "id": "55027ce1",
   "metadata": {},
   "outputs": [],
   "source": [
    "#removing the stopwords\n",
    "from nltk.corpus import stopwords\n",
    "en_stops = list(stopwords.words('english'))\n",
    "en_stops.append('I')\n",
    "en_stops.append('U')\n",
    "en_stops.append('F')\n",
    "en_stops.append('ti')\n",
    "en_stops.append('game')\n",
    "en_stops.append('u')\n",
    "en_stops.append('is')\n",
    "en_stops.append('h')\n",
    "en_stops.append('laptop')\n",
    "\n",
    "st_p=[word for word in final['words'] if not word in en_stops]"
   ]
  },
  {
   "cell_type": "code",
   "execution_count": 40,
   "id": "004dbae5",
   "metadata": {},
   "outputs": [
    {
     "name": "stdout",
     "output_type": "stream",
     "text": [
      "['extremely', 'overpriced', 'at', 'price', 'range', 'get', 'hp', 'omen', 'ryzen', 'gtx', 'far', 'better', 'disappointment', 'lenovothis', 'bought', 'intense', 'search', 'found', 'best', 'gaming', 'thankfully', 'validated', 'got', 'purchased', 'model']\n"
     ]
    }
   ],
   "source": [
    "#Noramalize the data\n",
    "lower_words = [x.lower() for x in st_p ]\n",
    "print(lower_words[0:25])"
   ]
  },
  {
   "cell_type": "code",
   "execution_count": 41,
   "id": "293d30e9",
   "metadata": {},
   "outputs": [
    {
     "name": "stdout",
     "output_type": "stream",
     "text": [
      "['extrem', 'overpr', 'at', 'price', 'rang', 'get', 'hp', 'omen', 'ryzen', 'gtx', 'far', 'better', 'disappoint', 'lenovothi', 'bought', 'intens', 'search', 'found', 'best', 'game', 'thank', 'valid', 'got', 'purchas', 'model', 'legion', 'intel', 'th', 'gen', 'gtx', 'nit', 'hz', 'refresh', 'rate', 'gb', 'ssd', 'tb', 'hddlove', 'got', 'k']\n"
     ]
    }
   ],
   "source": [
    "#Stemming\n",
    "from nltk.stem import PorterStemmer\n",
    "ps = PorterStemmer()\n",
    "stemmed_tokens = [ps.stem(word) for word in lower_words]\n",
    "print(stemmed_tokens[0:40])"
   ]
  },
  {
   "cell_type": "code",
   "execution_count": 42,
   "id": "d33c2e47",
   "metadata": {},
   "outputs": [
    {
     "data": {
      "text/html": [
       "<div>\n",
       "<style scoped>\n",
       "    .dataframe tbody tr th:only-of-type {\n",
       "        vertical-align: middle;\n",
       "    }\n",
       "\n",
       "    .dataframe tbody tr th {\n",
       "        vertical-align: top;\n",
       "    }\n",
       "\n",
       "    .dataframe thead th {\n",
       "        text-align: right;\n",
       "    }\n",
       "</style>\n",
       "<table border=\"1\" class=\"dataframe\">\n",
       "  <thead>\n",
       "    <tr style=\"text-align: right;\">\n",
       "      <th></th>\n",
       "      <th>words</th>\n",
       "    </tr>\n",
       "  </thead>\n",
       "  <tbody>\n",
       "    <tr>\n",
       "      <th>0</th>\n",
       "      <td>extrem</td>\n",
       "    </tr>\n",
       "    <tr>\n",
       "      <th>1</th>\n",
       "      <td>overpr</td>\n",
       "    </tr>\n",
       "    <tr>\n",
       "      <th>2</th>\n",
       "      <td>at</td>\n",
       "    </tr>\n",
       "    <tr>\n",
       "      <th>3</th>\n",
       "      <td>price</td>\n",
       "    </tr>\n",
       "    <tr>\n",
       "      <th>4</th>\n",
       "      <td>rang</td>\n",
       "    </tr>\n",
       "    <tr>\n",
       "      <th>...</th>\n",
       "      <td>...</td>\n",
       "    </tr>\n",
       "    <tr>\n",
       "      <th>229</th>\n",
       "      <td>display</td>\n",
       "    </tr>\n",
       "    <tr>\n",
       "      <th>230</th>\n",
       "      <td>rest</td>\n",
       "    </tr>\n",
       "    <tr>\n",
       "      <th>231</th>\n",
       "      <td>everyth</td>\n",
       "    </tr>\n",
       "    <tr>\n",
       "      <th>232</th>\n",
       "      <td>pretti</td>\n",
       "    </tr>\n",
       "    <tr>\n",
       "      <th>233</th>\n",
       "      <td>good</td>\n",
       "    </tr>\n",
       "  </tbody>\n",
       "</table>\n",
       "<p>234 rows × 1 columns</p>\n",
       "</div>"
      ],
      "text/plain": [
       "       words\n",
       "0     extrem\n",
       "1     overpr\n",
       "2         at\n",
       "3      price\n",
       "4       rang\n",
       "..       ...\n",
       "229  display\n",
       "230     rest\n",
       "231  everyth\n",
       "232   pretti\n",
       "233     good\n",
       "\n",
       "[234 rows x 1 columns]"
      ]
     },
     "execution_count": 42,
     "metadata": {},
     "output_type": "execute_result"
    }
   ],
   "source": [
    "#dataframe\n",
    "final_df=pd.DataFrame(stemmed_tokens,columns=['words'])\n",
    "final_df"
   ]
  },
  {
   "cell_type": "code",
   "execution_count": 43,
   "id": "01f40a99",
   "metadata": {},
   "outputs": [
    {
     "data": {
      "text/plain": [
       "<matplotlib.image.AxesImage at 0x2a96059c9d0>"
      ]
     },
     "execution_count": 43,
     "metadata": {},
     "output_type": "execute_result"
    },
    {
     "data": {
      "image/png": "[encoded data removed]",
      "text/plain": [
       "<Figure size 432x288 with 1 Axes>"
      ]
     },
     "metadata": {
      "needs_background": "light"
     },
     "output_type": "display_data"
    }
   ],
   "source": [
    "#wordcloud\n",
    "from wordcloud import WordCloud\n",
    "import matplotlib.pyplot as plt\n",
    "\n",
    "string_Total = \" \".join(final_df[\"words\"])\n",
    "wordcloud_stw = WordCloud(width = 1800,height = 1500).generate(string_Total)\n",
    "plt.imshow(wordcloud_stw)"
   ]
  },
  {
   "cell_type": "code",
   "execution_count": 44,
   "id": "cefe17ae",
   "metadata": {},
   "outputs": [
    {
     "data": {
      "text/plain": [
       "(2477, 2)"
      ]
     },
     "execution_count": 44,
     "metadata": {},
     "output_type": "execute_result"
    }
   ],
   "source": [
    "#import affin lexicon\n",
    "afinn = pd.read_csv('E:/Afinn.csv', sep=',', encoding='latin-1')\n",
    "afinn.shape"
   ]
  },
  {
   "cell_type": "code",
   "execution_count": 45,
   "id": "f8e37793",
   "metadata": {},
   "outputs": [],
   "source": [
    "#defining the custom function\n",
    "from itertools import islice\n",
    "\n",
    "def take(n, iterable):\n",
    "    return list(islice(iterable, n))"
   ]
  },
  {
   "cell_type": "code",
   "execution_count": 46,
   "id": "c2325861",
   "metadata": {},
   "outputs": [
    {
     "data": {
      "text/plain": [
       "[('abandon', -2),\n",
       " ('abandoned', -2),\n",
       " ('abandons', -2),\n",
       " ('abducted', -2),\n",
       " ('abduction', -2),\n",
       " ('abductions', -2),\n",
       " ('abhor', -3),\n",
       " ('abhorred', -3),\n",
       " ('abhorrent', -3),\n",
       " ('abhors', -3),\n",
       " ('abilities', 2),\n",
       " ('ability', 2),\n",
       " ('aboard', 1),\n",
       " ('absentee', -1),\n",
       " ('absentees', -1),\n",
       " ('absolve', 2),\n",
       " ('absolved', 2),\n",
       " ('absolves', 2),\n",
       " ('absolving', 2),\n",
       " ('absorbed', 1)]"
      ]
     },
     "execution_count": 46,
     "metadata": {},
     "output_type": "execute_result"
    }
   ],
   "source": [
    "#setting the affin_scores\n",
    "affinity_scores = afinn.set_index('word')['value'].to_dict()\n",
    "take(20, affinity_scores.items())"
   ]
  },
  {
   "cell_type": "code",
   "execution_count": 49,
   "id": "44cfe933",
   "metadata": {},
   "outputs": [],
   "source": [
    "#defining the custom function for the text\n",
    "nlp = spacy.load('en_core_web_sm')\n",
    "def calculate_sentiment(text: str = None) -> float:\n",
    "    sent_score = 0\n",
    "    if text:\n",
    "        sentence = nlp(text)\n",
    "        for word in sentence:\n",
    "            sent_score += affinity_scores .get(word.lemma_, 0)\n",
    "    return sent_score"
   ]
  },
  {
   "cell_type": "code",
   "execution_count": 51,
   "id": "7cc1a32f",
   "metadata": {},
   "outputs": [
    {
     "data": {
      "text/plain": [
       "-2"
      ]
     },
     "execution_count": 51,
     "metadata": {},
     "output_type": "execute_result"
    }
   ],
   "source": [
    "#checking affin lexicon\n",
    "calculate_sentiment(text = 'i am sad')"
   ]
  },
  {
   "cell_type": "code",
   "execution_count": 52,
   "id": "f59ea23b",
   "metadata": {},
   "outputs": [
    {
     "data": {
      "text/html": [
       "<div>\n",
       "<style scoped>\n",
       "    .dataframe tbody tr th:only-of-type {\n",
       "        vertical-align: middle;\n",
       "    }\n",
       "\n",
       "    .dataframe tbody tr th {\n",
       "        vertical-align: top;\n",
       "    }\n",
       "\n",
       "    .dataframe thead th {\n",
       "        text-align: right;\n",
       "    }\n",
       "</style>\n",
       "<table border=\"1\" class=\"dataframe\">\n",
       "  <thead>\n",
       "    <tr style=\"text-align: right;\">\n",
       "      <th></th>\n",
       "      <th>words</th>\n",
       "      <th>sentiment_value</th>\n",
       "    </tr>\n",
       "  </thead>\n",
       "  <tbody>\n",
       "    <tr>\n",
       "      <th>0</th>\n",
       "      <td>extrem</td>\n",
       "      <td>0</td>\n",
       "    </tr>\n",
       "    <tr>\n",
       "      <th>1</th>\n",
       "      <td>overpr</td>\n",
       "      <td>0</td>\n",
       "    </tr>\n",
       "    <tr>\n",
       "      <th>2</th>\n",
       "      <td>at</td>\n",
       "      <td>0</td>\n",
       "    </tr>\n",
       "    <tr>\n",
       "      <th>3</th>\n",
       "      <td>price</td>\n",
       "      <td>0</td>\n",
       "    </tr>\n",
       "    <tr>\n",
       "      <th>4</th>\n",
       "      <td>rang</td>\n",
       "      <td>0</td>\n",
       "    </tr>\n",
       "    <tr>\n",
       "      <th>...</th>\n",
       "      <td>...</td>\n",
       "      <td>...</td>\n",
       "    </tr>\n",
       "    <tr>\n",
       "      <th>229</th>\n",
       "      <td>display</td>\n",
       "      <td>0</td>\n",
       "    </tr>\n",
       "    <tr>\n",
       "      <th>230</th>\n",
       "      <td>rest</td>\n",
       "      <td>0</td>\n",
       "    </tr>\n",
       "    <tr>\n",
       "      <th>231</th>\n",
       "      <td>everyth</td>\n",
       "      <td>0</td>\n",
       "    </tr>\n",
       "    <tr>\n",
       "      <th>232</th>\n",
       "      <td>pretti</td>\n",
       "      <td>0</td>\n",
       "    </tr>\n",
       "    <tr>\n",
       "      <th>233</th>\n",
       "      <td>good</td>\n",
       "      <td>3</td>\n",
       "    </tr>\n",
       "  </tbody>\n",
       "</table>\n",
       "<p>234 rows × 2 columns</p>\n",
       "</div>"
      ],
      "text/plain": [
       "       words  sentiment_value\n",
       "0     extrem                0\n",
       "1     overpr                0\n",
       "2         at                0\n",
       "3      price                0\n",
       "4       rang                0\n",
       "..       ...              ...\n",
       "229  display                0\n",
       "230     rest                0\n",
       "231  everyth                0\n",
       "232   pretti                0\n",
       "233     good                3\n",
       "\n",
       "[234 rows x 2 columns]"
      ]
     },
     "execution_count": 52,
     "metadata": {},
     "output_type": "execute_result"
    }
   ],
   "source": [
    "#checking the sentiment scores of the text words\n",
    "final_df['sentiment_value'] = final_df['words'].apply(calculate_sentiment)\n",
    "final_df"
   ]
  },
  {
   "cell_type": "code",
   "execution_count": 56,
   "id": "866efeef",
   "metadata": {},
   "outputs": [
    {
     "data": {
      "text/html": [
       "<div>\n",
       "<style scoped>\n",
       "    .dataframe tbody tr th:only-of-type {\n",
       "        vertical-align: middle;\n",
       "    }\n",
       "\n",
       "    .dataframe tbody tr th {\n",
       "        vertical-align: top;\n",
       "    }\n",
       "\n",
       "    .dataframe thead th {\n",
       "        text-align: right;\n",
       "    }\n",
       "</style>\n",
       "<table border=\"1\" class=\"dataframe\">\n",
       "  <thead>\n",
       "    <tr style=\"text-align: right;\">\n",
       "      <th></th>\n",
       "      <th>words</th>\n",
       "      <th>sentiment_value</th>\n",
       "    </tr>\n",
       "  </thead>\n",
       "  <tbody>\n",
       "    <tr>\n",
       "      <th>124</th>\n",
       "      <td>fear</td>\n",
       "      <td>-2</td>\n",
       "    </tr>\n",
       "    <tr>\n",
       "      <th>12</th>\n",
       "      <td>disappoint</td>\n",
       "      <td>-2</td>\n",
       "    </tr>\n",
       "    <tr>\n",
       "      <th>0</th>\n",
       "      <td>extrem</td>\n",
       "      <td>0</td>\n",
       "    </tr>\n",
       "    <tr>\n",
       "      <th>144</th>\n",
       "      <td>someon</td>\n",
       "      <td>0</td>\n",
       "    </tr>\n",
       "    <tr>\n",
       "      <th>145</th>\n",
       "      <td>look</td>\n",
       "      <td>0</td>\n",
       "    </tr>\n",
       "    <tr>\n",
       "      <th>...</th>\n",
       "      <td>...</td>\n",
       "      <td>...</td>\n",
       "    </tr>\n",
       "    <tr>\n",
       "      <th>88</th>\n",
       "      <td>good</td>\n",
       "      <td>3</td>\n",
       "    </tr>\n",
       "    <tr>\n",
       "      <th>89</th>\n",
       "      <td>vibrant</td>\n",
       "      <td>3</td>\n",
       "    </tr>\n",
       "    <tr>\n",
       "      <th>104</th>\n",
       "      <td>splendid</td>\n",
       "      <td>3</td>\n",
       "    </tr>\n",
       "    <tr>\n",
       "      <th>18</th>\n",
       "      <td>best</td>\n",
       "      <td>3</td>\n",
       "    </tr>\n",
       "    <tr>\n",
       "      <th>233</th>\n",
       "      <td>good</td>\n",
       "      <td>3</td>\n",
       "    </tr>\n",
       "  </tbody>\n",
       "</table>\n",
       "<p>234 rows × 2 columns</p>\n",
       "</div>"
      ],
      "text/plain": [
       "          words  sentiment_value\n",
       "124        fear               -2\n",
       "12   disappoint               -2\n",
       "0        extrem                0\n",
       "144      someon                0\n",
       "145        look                0\n",
       "..          ...              ...\n",
       "88         good                3\n",
       "89      vibrant                3\n",
       "104    splendid                3\n",
       "18         best                3\n",
       "233        good                3\n",
       "\n",
       "[234 rows x 2 columns]"
      ]
     },
     "execution_count": 56,
     "metadata": {},
     "output_type": "execute_result"
    }
   ],
   "source": [
    "final_df.sort_values(by='sentiment_value')"
   ]
  },
  {
   "cell_type": "code",
   "execution_count": 63,
   "id": "e224c17e",
   "metadata": {},
   "outputs": [
    {
     "data": {
      "text/plain": [
       "<AxesSubplot:xlabel='sentiment_value', ylabel='count'>"
      ]
     },
     "execution_count": 63,
     "metadata": {},
     "output_type": "execute_result"
    },
    {
     "data": {
      "image/png": "[encoded data removed]",
      "text/plain": [
       "<Figure size 432x288 with 1 Axes>"
      ]
     },
     "metadata": {
      "needs_background": "light"
     },
     "output_type": "display_data"
    }
   ],
   "source": [
    "#visualizing\n",
    "sns.countplot(x='sentiment_value',data=final_df)"
   ]
  },
  {
   "cell_type": "markdown",
   "id": "aeacc0fa",
   "metadata": {},
   "source": [
    "## Most of the words are neutral and positive which depitcts positive emotion of the laptop review from amazon"
   ]
  }
 ],
 "metadata": {
  "kernelspec": {
   "display_name": "Python 3",
   "language": "python",
   "name": "python3"
  },
  "language_info": {
   "codemirror_mode": {
    "name": "ipython",
    "version": 3
   },
   "file_extension": ".py",
   "mimetype": "text/x-python",
   "name": "python",
   "nbconvert_exporter": "python",
   "pygments_lexer": "ipython3",
   "version": "3.8.8"
  }
 },
 "nbformat": 4,
 "nbformat_minor": 5
}
